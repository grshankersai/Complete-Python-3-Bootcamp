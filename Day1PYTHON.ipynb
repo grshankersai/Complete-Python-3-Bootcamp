{
  "nbformat": 4,
  "nbformat_minor": 0,
  "metadata": {
    "colab": {
      "name": "Day1.ipynb",
      "provenance": [],
      "collapsed_sections": [],
      "include_colab_link": true
    },
    "kernelspec": {
      "name": "python3",
      "display_name": "Python 3"
    }
  },
  "cells": [
    {
      "cell_type": "markdown",
      "metadata": {
        "id": "view-in-github",
        "colab_type": "text"
      },
      "source": [
        "<a href=\"https://colab.research.google.com/github/grshankersai/Complete-Python-3-Bootcamp/blob/master/Day1PYTHON.ipynb\" target=\"_parent\"><img src=\"https://colab.research.google.com/assets/colab-badge.svg\" alt=\"Open In Colab\"/></a>"
      ]
    },
    {
      "cell_type": "code",
      "metadata": {
        "id": "fR6LtFi5B59Q",
        "colab_type": "code",
        "outputId": "364b7cad-3a2e-4566-a18f-92ba830f6468",
        "colab": {
          "base_uri": "https://localhost:8080/",
          "height": 34
        }
      },
      "source": [
        "print(\"Hello world\")"
      ],
      "execution_count": 0,
      "outputs": [
        {
          "output_type": "stream",
          "text": [
            "Hello world\n"
          ],
          "name": "stdout"
        }
      ]
    },
    {
      "cell_type": "markdown",
      "metadata": {
        "id": "rOISZU6sDh8u",
        "colab_type": "text"
      },
      "source": [
        "# python\n",
        "## python\n",
        "### python\n",
        "#### python\n",
        "##### python\n"
      ]
    },
    {
      "cell_type": "code",
      "metadata": {
        "id": "8jUuaWhDFMxf",
        "colab_type": "code",
        "outputId": "3494afa5-3179-4a51-a901-c7baf80adddc",
        "colab": {
          "base_uri": "https://localhost:8080/",
          "height": 34
        }
      },
      "source": [
        "print(\"Gitam\",end=\"\\t\")\n",
        "print(\"Gitam\",end=\" \")"
      ],
      "execution_count": 0,
      "outputs": [
        {
          "output_type": "stream",
          "text": [
            "Gitam\tGitam "
          ],
          "name": "stdout"
        }
      ]
    },
    {
      "cell_type": "markdown",
      "metadata": {
        "id": "71FQLMumGQKo",
        "colab_type": "text"
      },
      "source": [
        "# Variables\n",
        "## also called identifiers\n",
        "### to store some value and allocate some memory\n",
        "# Naming Rules::\n",
        "### it always starts with alphabet , cannot start with digit.\n",
        "### it can start with \"_\",but no special chars are allowed as variables.\n",
        "### keywords cannot be used as variables.\n",
        "\n",
        "\n"
      ]
    },
    {
      "cell_type": "code",
      "metadata": {
        "id": "VDFgdaC4GTRt",
        "colab_type": "code",
        "outputId": "0b5b17f0-c297-4103-960f-5ad1027b31fd",
        "colab": {
          "base_uri": "https://localhost:8080/",
          "height": 50
        }
      },
      "source": [
        "a = 10\n",
        "print(a)\n",
        "a*2"
      ],
      "execution_count": 0,
      "outputs": [
        {
          "output_type": "stream",
          "text": [
            "10\n"
          ],
          "name": "stdout"
        },
        {
          "output_type": "execute_result",
          "data": {
            "text/plain": [
              "20"
            ]
          },
          "metadata": {
            "tags": []
          },
          "execution_count": 6
        }
      ]
    },
    {
      "cell_type": "code",
      "metadata": {
        "id": "oMGraCtsHcQ2",
        "colab_type": "code",
        "outputId": "1b238dbe-a361-4e5b-992e-aef52d792ef6",
        "colab": {
          "base_uri": "https://localhost:8080/",
          "height": 34
        }
      },
      "source": [
        "b=20\n",
        "a+b\n"
      ],
      "execution_count": 0,
      "outputs": [
        {
          "output_type": "execute_result",
          "data": {
            "text/plain": [
              "30"
            ]
          },
          "metadata": {
            "tags": []
          },
          "execution_count": 7
        }
      ]
    },
    {
      "cell_type": "code",
      "metadata": {
        "id": "_uOYu9o9IrY2",
        "colab_type": "code",
        "outputId": "ab511cf4-2ca9-495c-87c7-a126832a4d3f",
        "colab": {
          "base_uri": "https://localhost:8080/",
          "height": 34
        }
      },
      "source": [
        "name = \"Gitam\"\n",
        "address=\"Hyd\"\n",
        "print(\"University Name\",name,\"Place\",address)"
      ],
      "execution_count": 0,
      "outputs": [
        {
          "output_type": "stream",
          "text": [
            "University Name Gitam Place Hyd\n"
          ],
          "name": "stdout"
        }
      ]
    },
    {
      "cell_type": "markdown",
      "metadata": {
        "id": "B1Myb9i8KOhe",
        "colab_type": "text"
      },
      "source": [
        "# Input Function."
      ]
    },
    {
      "cell_type": "code",
      "metadata": {
        "id": "dhIusfNzKSNI",
        "colab_type": "code",
        "outputId": "4358b082-5bb3-44bc-8017-e6a0a214d2fe",
        "colab": {
          "base_uri": "https://localhost:8080/",
          "height": 50
        }
      },
      "source": [
        "input(\"Enter your name\")"
      ],
      "execution_count": 0,
      "outputs": [
        {
          "output_type": "stream",
          "text": [
            "Enter your namePython\n"
          ],
          "name": "stdout"
        },
        {
          "output_type": "execute_result",
          "data": {
            "text/plain": [
              "'Python'"
            ]
          },
          "metadata": {
            "tags": []
          },
          "execution_count": 12
        }
      ]
    },
    {
      "cell_type": "code",
      "metadata": {
        "id": "BidTpPfQKux7",
        "colab_type": "code",
        "outputId": "95072525-3958-423f-f10c-46601dcd9e05",
        "colab": {
          "base_uri": "https://localhost:8080/",
          "height": 50
        }
      },
      "source": [
        "n=int(input(\"Enter a number..\"))\n",
        "n"
      ],
      "execution_count": 0,
      "outputs": [
        {
          "output_type": "stream",
          "text": [
            "Enter a number..76\n"
          ],
          "name": "stdout"
        },
        {
          "output_type": "execute_result",
          "data": {
            "text/plain": [
              "76"
            ]
          },
          "metadata": {
            "tags": []
          },
          "execution_count": 14
        }
      ]
    },
    {
      "cell_type": "markdown",
      "metadata": {
        "id": "YrWwnRTjLQuE",
        "colab_type": "text"
      },
      "source": [
        "# type function"
      ]
    },
    {
      "cell_type": "code",
      "metadata": {
        "id": "N98JFMk1LTHU",
        "colab_type": "code",
        "outputId": "85ad0b5f-8280-4621-bc0b-dd28db8f4426",
        "colab": {
          "base_uri": "https://localhost:8080/",
          "height": 34
        }
      },
      "source": [
        "type(n)\n",
        "print(type(n))"
      ],
      "execution_count": 0,
      "outputs": [
        {
          "output_type": "stream",
          "text": [
            "<class 'int'>\n"
          ],
          "name": "stdout"
        }
      ]
    },
    {
      "cell_type": "markdown",
      "metadata": {
        "id": "XGgCgKGHMy3M",
        "colab_type": "text"
      },
      "source": [
        "## Data types in python\n",
        "## 1.int\n",
        "## 2.float\n",
        "## 3. complex\n",
        "## 4. boolean\n",
        "## 5. string\n"
      ]
    },
    {
      "cell_type": "code",
      "metadata": {
        "id": "Er8ZSPxjM456",
        "colab_type": "code",
        "outputId": "d908d6ed-5e08-46fd-c9c3-b3bd22bcc827",
        "colab": {
          "base_uri": "https://localhost:8080/",
          "height": 34
        }
      },
      "source": [
        "x=10\n",
        "y=13.5\n",
        "z= 3+6j\n",
        "print(type(x),type(y),type(z))"
      ],
      "execution_count": 0,
      "outputs": [
        {
          "output_type": "stream",
          "text": [
            "<class 'int'> <class 'float'> <class 'complex'>\n"
          ],
          "name": "stdout"
        }
      ]
    },
    {
      "cell_type": "code",
      "metadata": {
        "id": "mXgYTZ5gOay4",
        "colab_type": "code",
        "outputId": "b4f70fd2-c632-49ad-e615-ec90fffe434a",
        "colab": {
          "base_uri": "https://localhost:8080/",
          "height": 67
        }
      },
      "source": [
        "a=complex(y)\n",
        "print(a)\n",
        "print(x+y)\n",
        "print(y+z)\n"
      ],
      "execution_count": 0,
      "outputs": [
        {
          "output_type": "stream",
          "text": [
            "(13.5+0j)\n",
            "23.5\n",
            "(16.5+6j)\n"
          ],
          "name": "stdout"
        }
      ]
    },
    {
      "cell_type": "code",
      "metadata": {
        "id": "obNrV8y3OxD3",
        "colab_type": "code",
        "outputId": "fca81e31-54d1-458b-ae3d-814babd2a4ec",
        "colab": {
          "base_uri": "https://localhost:8080/",
          "height": 34
        }
      },
      "source": [
        "c=complex(3,4)\n",
        "print(c)"
      ],
      "execution_count": 0,
      "outputs": [
        {
          "output_type": "stream",
          "text": [
            "(3+4j)\n"
          ],
          "name": "stdout"
        }
      ]
    },
    {
      "cell_type": "markdown",
      "metadata": {
        "id": "2vZ57hjXPsvF",
        "colab_type": "text"
      },
      "source": [
        "## Boolean data type\n",
        "### True\n",
        "### False"
      ]
    },
    {
      "cell_type": "markdown",
      "metadata": {
        "id": "p3nvc20XQSmj",
        "colab_type": "text"
      },
      "source": [
        "## strings"
      ]
    },
    {
      "cell_type": "code",
      "metadata": {
        "id": "dAWnNZbPPy_L",
        "colab_type": "code",
        "outputId": "af512ecd-c703-4cfe-f97a-3c854673f048",
        "colab": {
          "base_uri": "https://localhost:8080/",
          "height": 50
        }
      },
      "source": [
        "x=\"a\"\n",
        "y=\"Python\"\n",
        "print(type(x))\n",
        "type(y)"
      ],
      "execution_count": 0,
      "outputs": [
        {
          "output_type": "stream",
          "text": [
            "<class 'str'>\n"
          ],
          "name": "stdout"
        },
        {
          "output_type": "execute_result",
          "data": {
            "text/plain": [
              "str"
            ]
          },
          "metadata": {
            "tags": []
          },
          "execution_count": 23
        }
      ]
    },
    {
      "cell_type": "code",
      "metadata": {
        "id": "9GU4qATNQvXk",
        "colab_type": "code",
        "outputId": "025af47b-ee5a-40ad-f0e6-2458740ab4a3",
        "colab": {
          "base_uri": "https://localhost:8080/",
          "height": 67
        }
      },
      "source": [
        "i=100\n",
        "print(type(i))\n",
        "j=str(i)\n",
        "print(type(j))\n",
        "k=float(i)\n",
        "print(type(k))"
      ],
      "execution_count": 0,
      "outputs": [
        {
          "output_type": "stream",
          "text": [
            "<class 'int'>\n",
            "<class 'str'>\n",
            "<class 'float'>\n"
          ],
          "name": "stdout"
        }
      ]
    },
    {
      "cell_type": "markdown",
      "metadata": {
        "id": "ZX1-GN8wSlyE",
        "colab_type": "text"
      },
      "source": [
        "## **Operators**\n",
        "### 1.Arithmetic operators: +,-,*,/,%,\"//\"-float division,\"**\" -power.\n",
        "### 2. Logical Operators : and , or ,not\n",
        "### 3. Relational Operators: <,<=,>,>=,==,!=\n",
        "### 4.Memebership operator: in & not in"
      ]
    },
    {
      "cell_type": "code",
      "metadata": {
        "id": "yL28qC8_TpQn",
        "colab_type": "code",
        "outputId": "1e2c54e5-f568-485d-8090-719969bce7f9",
        "colab": {
          "base_uri": "https://localhost:8080/",
          "height": 118
        }
      },
      "source": [
        "x=3\n",
        "y=5\n",
        "print(x+y)\n",
        "print(x*y)\n",
        "print(x/y)\n",
        "print(x**y)\n",
        "print(x//y)\n",
        "print(x%y)\n"
      ],
      "execution_count": 0,
      "outputs": [
        {
          "output_type": "stream",
          "text": [
            "8\n",
            "15\n",
            "0.6\n",
            "243\n",
            "0\n",
            "3\n"
          ],
          "name": "stdout"
        }
      ]
    },
    {
      "cell_type": "code",
      "metadata": {
        "id": "SmlhY4QlVp3z",
        "colab_type": "code",
        "outputId": "9e4a3974-f46b-4398-c787-b926908bdb51",
        "colab": {
          "base_uri": "https://localhost:8080/",
          "height": 84
        }
      },
      "source": [
        "## logical operators\n",
        "a=20 \n",
        "b=30\n",
        "print(a>=10 and a>=30)\n",
        "print(b>=10 and b<=40)\n",
        "print(a>=10 or a>=30)\n",
        "print(not a)"
      ],
      "execution_count": 0,
      "outputs": [
        {
          "output_type": "stream",
          "text": [
            "False\n",
            "True\n",
            "True\n",
            "False\n"
          ],
          "name": "stdout"
        }
      ]
    },
    {
      "cell_type": "code",
      "metadata": {
        "id": "MVzEgC7mYOWE",
        "colab_type": "code",
        "outputId": "d4002015-3c0e-409a-f3fb-23328b189646",
        "colab": {
          "base_uri": "https://localhost:8080/",
          "height": 34
        }
      },
      "source": [
        "a=10\n",
        "b=20\n",
        "x=a<b\n",
        "print(x)"
      ],
      "execution_count": 0,
      "outputs": [
        {
          "output_type": "stream",
          "text": [
            "True\n"
          ],
          "name": "stdout"
        }
      ]
    },
    {
      "cell_type": "code",
      "metadata": {
        "id": "DpumThS9YUsm",
        "colab_type": "code",
        "outputId": "51c0f27b-59c9-4377-bf5f-1f0209903093",
        "colab": {
          "base_uri": "https://localhost:8080/",
          "height": 34
        }
      },
      "source": [
        "print(not x)"
      ],
      "execution_count": 0,
      "outputs": [
        {
          "output_type": "stream",
          "text": [
            "False\n"
          ],
          "name": "stdout"
        }
      ]
    },
    {
      "cell_type": "code",
      "metadata": {
        "id": "tSP2M5vmX2vE",
        "colab_type": "code",
        "outputId": "23c7a7ab-eb54-42ce-893a-a9633b7f4114",
        "colab": {
          "base_uri": "https://localhost:8080/",
          "height": 118
        }
      },
      "source": [
        "#Relational operators\n",
        "print(a>b)\n",
        "print(a<b)\n",
        "print(a>=b)\n",
        "print(a<=b)\n",
        "print(a==b)\n",
        "print(a!=b)\n",
        "\n",
        "\n"
      ],
      "execution_count": 0,
      "outputs": [
        {
          "output_type": "stream",
          "text": [
            "False\n",
            "True\n",
            "False\n",
            "True\n",
            "False\n",
            "True\n"
          ],
          "name": "stdout"
        }
      ]
    },
    {
      "cell_type": "code",
      "metadata": {
        "id": "bt8U-dEeZYOb",
        "colab_type": "code",
        "outputId": "6760e692-e055-4926-9457-60e84b2bcc65",
        "colab": {
          "base_uri": "https://localhost:8080/",
          "height": 50
        }
      },
      "source": [
        "# Membership operator\n",
        "str=\"abc\"\n",
        "print(\"c\"in str)\n",
        "print(\"c\"not in str)"
      ],
      "execution_count": 0,
      "outputs": [
        {
          "output_type": "stream",
          "text": [
            "True\n",
            "False\n"
          ],
          "name": "stdout"
        }
      ]
    },
    {
      "cell_type": "markdown",
      "metadata": {
        "id": "PoBn8LCcaqdt",
        "colab_type": "text"
      },
      "source": [
        "# conditional Statement\n",
        "## 1. if(Used for a single condition)\n",
        "### syntax:\n",
        "### if:\n",
        "###   statements \n",
        "## 2. else-if (When  we have 2 conditions.)\n",
        "### syntax;\n",
        "### if:\n",
        "###  statements;\n",
        "### else:\n",
        "###   statements;\n",
        "## 3. elif (multiple condition)"
      ]
    },
    {
      "cell_type": "code",
      "metadata": {
        "id": "MVU4wCtma_eS",
        "colab_type": "code",
        "outputId": "c8f0cbff-21a6-4f64-d249-2a8d15d6bde6",
        "colab": {
          "base_uri": "https://localhost:8080/",
          "height": 50
        }
      },
      "source": [
        "# check for an odd number\n",
        "n=int(input(\"Enter a number\"))\n",
        "if n%2!=0:\n",
        "  print(\"Odd number\")\n",
        "else:\n",
        "  print(\"Even number\")\n"
      ],
      "execution_count": 0,
      "outputs": [
        {
          "output_type": "stream",
          "text": [
            "Enter a number54\n",
            "Even number\n"
          ],
          "name": "stdout"
        }
      ]
    },
    {
      "cell_type": "code",
      "metadata": {
        "id": "9OulSTcIddaF",
        "colab_type": "code",
        "outputId": "02602d83-ed08-479d-ab80-6359f11f93d9",
        "colab": {
          "base_uri": "https://localhost:8080/",
          "height": 50
        }
      },
      "source": [
        "n=int(input(\"Enter a number\"))\n",
        "if n%3==0 and n%5==0:\n",
        "  print(\"yes..!\")\n",
        "else:\n",
        "  print(\"NO..!\")\n"
      ],
      "execution_count": 41,
      "outputs": [
        {
          "output_type": "stream",
          "text": [
            "Enter a number25\n",
            "NO..!\n"
          ],
          "name": "stdout"
        }
      ]
    },
    {
      "cell_type": "code",
      "metadata": {
        "id": "FGol8RlTg13t",
        "colab_type": "code",
        "colab": {
          "base_uri": "https://localhost:8080/",
          "height": 50
        },
        "outputId": "6dc40f5a-32cb-4f52-f3f9-b221c1725d2a"
      },
      "source": [
        "n=int(input(\"Enter a number\"))\n",
        "if n>0:\n",
        "  print(\"Positive\")\n",
        "elif n==0:\n",
        "  print(\"0\")\n",
        "elif n<0:\n",
        "  print(\"Negative\")\n",
        "\n"
      ],
      "execution_count": 44,
      "outputs": [
        {
          "output_type": "stream",
          "text": [
            "Enter a number-325\n",
            "Negative\n"
          ],
          "name": "stdout"
        }
      ]
    },
    {
      "cell_type": "code",
      "metadata": {
        "id": "2YtXxczTitzv",
        "colab_type": "code",
        "colab": {
          "base_uri": "https://localhost:8080/",
          "height": 84
        },
        "outputId": "8c498e87-f8a4-4245-85c2-68ba449e8ca1"
      },
      "source": [
        "a=int(input(\"Enter a number\"))\n",
        "b=int(input(\"Enter a number\"))\n",
        "c=int(input(\"Enter a number\"))\n",
        "if a>b and a>c:\n",
        "  print(a,\"is Greater\")\n",
        "elif b>a and b>c:\n",
        "  print(b,\"is Greater\")\n",
        "elif c>a and c>b:\n",
        "  print(c,\"is Greater\")    "
      ],
      "execution_count": 45,
      "outputs": [
        {
          "output_type": "stream",
          "text": [
            "Enter a number12\n",
            "Enter a number56\n",
            "Enter a number22\n",
            "56 is Greater\n"
          ],
          "name": "stdout"
        }
      ]
    },
    {
      "cell_type": "code",
      "metadata": {
        "id": "di3t88-GjuG3",
        "colab_type": "code",
        "colab": {
          "base_uri": "https://localhost:8080/",
          "height": 50
        },
        "outputId": "a9d47809-11b2-4224-e156-b130671a4159"
      },
      "source": [
        "n=int(input(\"Enter a year\"))\n",
        "if n%400==0 or (n%4==0 and n%100!=0):\n",
        "  print(\"Leap year\")\n",
        "\n",
        "#elif :\n",
        " # print(\"leap\")\n",
        "else:\n",
        "  print(\"n ot leap\")\n"
      ],
      "execution_count": 49,
      "outputs": [
        {
          "output_type": "stream",
          "text": [
            "Enter a year1500\n",
            "n ot leap\n"
          ],
          "name": "stdout"
        }
      ]
    }
  ]
}